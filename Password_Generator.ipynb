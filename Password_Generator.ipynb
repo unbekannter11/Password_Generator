{
 "cells": [
  {
   "cell_type": "code",
   "execution_count": 20,
   "id": "3b808b97",
   "metadata": {},
   "outputs": [
    {
     "data": {
      "text/plain": [
       "'c>6FH6v\"X9i'"
      ]
     },
     "execution_count": 20,
     "metadata": {},
     "output_type": "execute_result"
    }
   ],
   "source": [
    "import random\n",
    "\n",
    "uppers = [chr(random.randint(65, 90)) for i in range(3)]\n",
    "lowers = [chr(random.randint(97, 122)) for i in range(3)]\n",
    "numbers = [chr(random.randint(48,57)) for i in range(3)]\n",
    "chars = chr(random.randint(33,47)) + chr(random.randint(58, 64))\n",
    "\n",
    "password = \"\".join(uppers) + \"\".join(lowers) + \"\".join(numbers) + chars\n",
    "\n",
    "def mixing(password):\n",
    "    templist = list(password)\n",
    "    random.shuffle(templist)\n",
    "    return  \"\".join(templist)\n",
    "\n",
    "mixing(password)"
   ]
  }
 ],
 "metadata": {
  "kernelspec": {
   "display_name": "Python 3 (ipykernel)",
   "language": "python",
   "name": "python3"
  },
  "language_info": {
   "codemirror_mode": {
    "name": "ipython",
    "version": 3
   },
   "file_extension": ".py",
   "mimetype": "text/x-python",
   "name": "python",
   "nbconvert_exporter": "python",
   "pygments_lexer": "ipython3",
   "version": "3.9.13"
  }
 },
 "nbformat": 4,
 "nbformat_minor": 5
}
